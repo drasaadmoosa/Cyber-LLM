{
 "cells": [
  {
   "cell_type": "code",
   "execution_count": 1,
   "metadata": {},
   "outputs": [],
   "source": [
    "from langchain.llms import OpenAI\n",
    "from dotenv import load_dotenv\n",
    "load_dotenv('../.devcontainer/.env') # take environment variables from .env.\n",
    "import os\n",
    "api_key = os.getenv(\"OPENAI_API_KEY\")"
   ]
  },
  {
   "cell_type": "code",
   "execution_count": 2,
   "metadata": {},
   "outputs": [
    {
     "name": "stdout",
     "output_type": "stream",
     "text": [
      "\n",
      "\n",
      "\u001b[1m> Entering new AgentExecutor chain...\u001b[0m\n",
      "\u001b[32;1m\u001b[1;3m I need to find out when the 3rd president of the United States was born and then calculate the power of 3.\n",
      "Action: Wikipedia\n",
      "Action Input: 3rd president of the United States\u001b[0m\n",
      "Observation: \u001b[36;1m\u001b[1;3mPage: Thomas Jefferson\n",
      "Summary: Thomas Jefferson (April 13, 1743 – July 4, 1826) was an American statesman, diplomat, lawyer, architect, philosopher, and Founding Father who served as the third president of the United States from 1801 to 1809. Among the Committee of Five charged by the Second Continental Congress with drafting the Declaration of Independence, Jefferson was the document's primary author. Following the American Revolutionary War and prior to becoming president in 1801, Jefferson was the first U.S. secretary of state under George Washington and then the nation's second vice president under John Adams.\n",
      "Jefferson's writings and advocacy for human rights, including freedom of thought, speech and religion, helped inspire the American Revolution, which ultimately led the successful American Revolutionary War. This in turn led to American independence, the Constitution of the United States, and the establishment of the United States as a free and sovereign nation. He was a leading proponent of democracy, republicanism, and individual rights, and produced formative documents and decisions at the state, national and international levels. During the American Revolution, Jefferson represented Virginia at the Second Continental Congress, which adopted the Declaration of Independence, and served as the second governor of Virginia from 1779 to 1781. In 1785, Congress appointed Jefferson U.S. minister to France, where he served from 1785 to 1789. President Washington then appointed Jefferson the nation's first secretary of state, where he served from 1790 to 1793. During this time, in the early 1790s, Jefferson and James Madison organized the Democratic-Republican Party to oppose the Federalist Party during the formation of the nation's First Party System. With Madison, Jefferson anonymously wrote the Kentucky and Virginia Resolutions in 1798 and 1799, which sought to strengthen states' rights by nullifying the federal Alien and Sedition Acts.\n",
      "Jefferson and Federalist John Adams became both friends and political rivals, serving in the Continental Congress and drafting the Declaration of Independence together. In the 1796 U.S. presidential election between the two, Jefferson came in second, which according to electoral procedure at the time made him Adams' vice president. Jefferson challenged Adams again four years later, in 1800, and won the presidency. In 1804, Jefferson was overwhelmingly reelected to a second term as president. While then constitutionally eligible to run for a third term, Jefferson followed Washington's precedent of limiting his presidency to two terms. Jefferson eventually reconciled with Adams, and the two shared a correspondence that lasted 14 years. He and Adams both died within hours of each other on the same day, July 4, 1826, the 50th anniversary of the Declaration of Independence.\n",
      "As president, Jefferson pursued the nation's shipping and trade interests against Barbary pirates and aggressive British trade policies. Beginning in 1803, he promoted a western expansionist policy with the Louisiana Purchase, which doubled the nation's claimed land area. To make room for settlement, Jefferson began the process of Indian tribal removal from the newly acquired territory. As a result of peace negotiations with France, his administration was able to reduce military forces and expenditures. Jefferson's second term as president was beset by difficulties at home, including the trial of former vice president Aaron Burr. In 1807, American foreign trade was diminished when Jefferson implemented the Embargo Act in response to British threats to U.S. shipping. \n",
      "Jefferson was a slave owner, but also condemned the slave trade in his draft of the Declaration of Independence and signed the Act Prohibiting Importation of Slaves in 1807. Since the 1790s, he was rumored to have had children by his slave Sally Hemings. According to scholarly consensus, Jefferson probably fathered at least six children with Hemings, including\u001b[0m\n",
      "Thought:\u001b[32;1m\u001b[1;3m I now know the year Thomas Jefferson was born.\n",
      "Action: Calculator\n",
      "Action Input: 1743^3\u001b[0m\n",
      "Observation: \u001b[33;1m\u001b[1;3mAnswer: 5295319407\u001b[0m\n",
      "Thought:\u001b[32;1m\u001b[1;3m I now know the final answer.\n",
      "Final Answer: Thomas Jefferson was born in 1743 and 1743 raised to the power of 3 is 5295319407.\u001b[0m\n",
      "\n",
      "\u001b[1m> Finished chain.\u001b[0m\n"
     ]
    },
    {
     "data": {
      "text/plain": [
       "'Thomas Jefferson was born in 1743 and 1743 raised to the power of 3 is 5295319407.'"
      ]
     },
     "execution_count": 2,
     "metadata": {},
     "output_type": "execute_result"
    }
   ],
   "source": [
    "import pprint\n",
    "from langchain.llms import OpenAI\n",
    "from langchain.agents import load_tools, initialize_agent\n",
    "\n",
    "prompt = \"When was the 3rd president of the united states born? What is that year raised to the power of 3?\"\n",
    "\n",
    "llm = OpenAI(temperature=0)\n",
    "tools = load_tools([\"wikipedia\", \"llm-math\"],llm=llm)\n",
    "\n",
    "agent = initialize_agent(tools, llm, agent=\"zero-shot-react-description\", verbose=True)\n",
    "\n",
    "agent.run(prompt)"
   ]
  }
 ],
 "metadata": {
  "kernelspec": {
   "display_name": "Python 3",
   "language": "python",
   "name": "python3"
  },
  "language_info": {
   "codemirror_mode": {
    "name": "ipython",
    "version": 3
   },
   "file_extension": ".py",
   "mimetype": "text/x-python",
   "name": "python",
   "nbconvert_exporter": "python",
   "pygments_lexer": "ipython3",
   "version": "3.10.8"
  },
  "orig_nbformat": 4
 },
 "nbformat": 4,
 "nbformat_minor": 2
}
