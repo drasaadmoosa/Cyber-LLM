{
 "cells": [
  {
   "cell_type": "code",
   "execution_count": 1,
   "metadata": {},
   "outputs": [],
   "source": [
    "from langchain.llms import OpenAI\n"
   ]
  },
  {
   "cell_type": "code",
   "execution_count": 2,
   "metadata": {},
   "outputs": [
    {
     "data": {
      "text/plain": [
       "True"
      ]
     },
     "execution_count": 2,
     "metadata": {},
     "output_type": "execute_result"
    }
   ],
   "source": [
    "from dotenv import load_dotenv\n",
    "load_dotenv('../.devcontainer/.env') # take environment variables from .env."
   ]
  },
  {
   "cell_type": "code",
   "execution_count": 3,
   "metadata": {},
   "outputs": [],
   "source": [
    "import os\n",
    "api_key = os.getenv(\"OPENAI_API_KEY\")\n",
    "#print(api_key)"
   ]
  },
  {
   "cell_type": "code",
   "execution_count": 4,
   "metadata": {},
   "outputs": [],
   "source": [
    "llm = OpenAI(temperature=0)"
   ]
  },
  {
   "cell_type": "code",
   "execution_count": 9,
   "metadata": {},
   "outputs": [
    {
     "name": "stdout",
     "output_type": "stream",
     "text": [
      "\n",
      "\n",
      "Global Health AI Solutions (globalhealthai.ai)\n"
     ]
    }
   ],
   "source": [
    "prompt = \"What would a good company name be for a company that provides global health services using GenAI and LLMs? Suggest also a domain name that ends with .ai\"\n",
    "print(llm(prompt ))"
   ]
  },
  {
   "cell_type": "code",
   "execution_count": 10,
   "metadata": {},
   "outputs": [
    {
     "name": "stdout",
     "output_type": "stream",
     "text": [
      "\n",
      "\n",
      "Global Health AI Solutions (globalhealthai.ai)\n",
      "\n",
      "\n",
      "Global Health AI Solutions (globalhealthai.ai)\n",
      "\n",
      "\n",
      "Global Health AI Solutions (globalhealthai.ai)\n",
      "\n",
      "\n",
      "Global Health AI Solutions (globalhealthai.ai)\n",
      "\n",
      "\n",
      "Global Health AI Solutions (globalhealthai.ai)\n"
     ]
    }
   ],
   "source": [
    "prompt = \"What would a good company name be for a company that provides global health services using GenAI and LLMs? Suggest also a domain name that ends with .ai\"\n",
    "\n",
    "result = llm.generate([prompt]*5) \n",
    "for company_name in result.generations: \n",
    "    print(company_name[0].text )"
   ]
  }
 ],
 "metadata": {
  "kernelspec": {
   "display_name": "Python 3",
   "language": "python",
   "name": "python3"
  },
  "language_info": {
   "codemirror_mode": {
    "name": "ipython",
    "version": 3
   },
   "file_extension": ".py",
   "mimetype": "text/x-python",
   "name": "python",
   "nbconvert_exporter": "python",
   "pygments_lexer": "ipython3",
   "version": "3.10.8"
  },
  "orig_nbformat": 4
 },
 "nbformat": 4,
 "nbformat_minor": 2
}
