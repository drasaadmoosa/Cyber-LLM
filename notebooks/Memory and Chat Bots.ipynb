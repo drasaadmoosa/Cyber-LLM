{
 "cells": [
  {
   "cell_type": "code",
   "execution_count": 1,
   "metadata": {},
   "outputs": [],
   "source": [
    "from dotenv import load_dotenv\n",
    "load_dotenv('../.devcontainer/.env') # take environment variables from .env.\n",
    "import os\n",
    "api_key = os.getenv(\"OPENAI_API_KEY\")\n",
    "serpapi_api_key = os.getenv(\"SERPAPI_API_KEY\")\n",
    "#print(api_key)\n",
    "#print(serpapi_api_key)\n",
    "##################################################"
   ]
  },
  {
   "cell_type": "code",
   "execution_count": 2,
   "metadata": {},
   "outputs": [
    {
     "name": "stdout",
     "output_type": "stream",
     "text": [
      "Welcome to your AI Chatbot! What's on your mind?\n"
     ]
    }
   ],
   "source": [
    "# Memory and Chat Bots\n",
    "from langchain import OpenAI, ConversationChain\n",
    "llm = OpenAI(temperature=0)\n",
    "conversation = ConversationChain(llm=llm, verbose=False)\n",
    "print(\"Welcome to your AI Chatbot! What's on your mind?\")\n"
   ]
  },
  {
   "cell_type": "code",
   "execution_count": 3,
   "metadata": {},
   "outputs": [
    {
     "name": "stdout",
     "output_type": "stream",
     "text": [
      "AI:  I'm doing great! I'm feeling very energized and excited about the day ahead. I'm looking forward to learning more and exploring new possibilities. How about you?\n",
      "AI:  I'm glad to hear that. Is there anything I can help you with today?\n",
      "AI:  The CISSP exam covers 8 domains of knowledge. These domains are: Security and Risk Management, Asset Security, Security Engineering, Communications and Network Security, Identity and Access Management, Security Assessment and Testing, Security Operations, and Software Development Security.\n"
     ]
    }
   ],
   "source": [
    "for _ in range(0,3):\n",
    "    human_input = input(\"You: \") \n",
    "    ai_response = conversation.predict(input=human_input) \n",
    "    print(f\"AI: {ai_response}\")\n"
   ]
  }
 ],
 "metadata": {
  "kernelspec": {
   "display_name": "Python 3",
   "language": "python",
   "name": "python3"
  },
  "language_info": {
   "codemirror_mode": {
    "name": "ipython",
    "version": 3
   },
   "file_extension": ".py",
   "mimetype": "text/x-python",
   "name": "python",
   "nbconvert_exporter": "python",
   "pygments_lexer": "ipython3",
   "version": "3.10.8"
  },
  "orig_nbformat": 4
 },
 "nbformat": 4,
 "nbformat_minor": 2
}
